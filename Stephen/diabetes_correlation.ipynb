{
 "cells": [
  {
   "cell_type": "code",
   "execution_count": null,
   "metadata": {},
   "outputs": [],
   "source": [
    "# Import our dependencies\n",
    "import numpy as np\n",
    "import matplotlib.pyplot as plt\n",
    "from sklearn.model_selection import train_test_split\n",
    "from sklearn.preprocessing import StandardScaler\n",
    "import pandas as pd\n",
    "import tensorflow as tf\n",
    "\n",
    "#  Import and read the diabetes_data.csv.\n",
    "import pandas as pd\n",
    "diabetes_data_df = pd.read_csv('https://raw.githubusercontent.com/ComfyKoala/diabetes-classification/main/Stephen/diabetes_data.csv')\n",
    "# Display the first few rows\n",
    "diabetes_data_df.head()"
   ]
  },
  {
   "cell_type": "markdown",
   "metadata": {},
   "source": [
    "# Correlation Analysis"
   ]
  },
  {
   "cell_type": "code",
   "execution_count": null,
   "metadata": {},
   "outputs": [],
   "source": [
    "import seaborn as sns\n",
    "import matplotlib.pyplot as plt\n",
    "\n",
    "# Compute correlation between demographic and lifestyle factors with the diabetes diagnosis\n",
    "correlation_matrix = diabetes_data_df[[\n",
    "    'Age', 'Gender', 'Ethnicity', 'SocioeconomicStatus', 'EducationLevel',\n",
    "    'BMI', 'Smoking', 'AlcoholConsumption', 'PhysicalActivity',\n",
    "    'DietQuality', 'SleepQuality', 'Diagnosis'\n",
    "]].corr()\n",
    "\n",
    "# Visualize the correlation matrix\n",
    "plt.figure(figsize=(10, 8))\n",
    "sns.heatmap(correlation_matrix, annot=True, cmap=\"coolwarm\", fmt=\".2f\")\n",
    "plt.title('Correlation Matrix')\n",
    "plt.show()"
   ]
  },
  {
   "cell_type": "markdown",
   "metadata": {},
   "source": [
    "# Logistic Regression"
   ]
  },
  {
   "cell_type": "markdown",
   "metadata": {},
   "source": [
    "from sklearn.model_selection import train_test_split\n",
    "from sklearn.linear_model import LogisticRegression\n",
    "from sklearn.metrics import classification_report, confusion_matrix, roc_auc_score\n",
    "\n",
    "# Prepare the data for logistic regression\n",
    "X = diabetes_data_df[[\n",
    "    'Age', 'Gender', 'Ethnicity', 'SocioeconomicStatus', 'EducationLevel',\n",
    "    'BMI', 'Smoking', 'AlcoholConsumption', 'PhysicalActivity',\n",
    "    'DietQuality', 'SleepQuality'\n",
    "]]\n",
    "y = diabetes_data_df['Diagnosis']\n",
    "\n",
    "# Split the data into training and testing sets\n",
    "X_train, X_test, y_train, y_test = train_test_split(X, y, test_size=0.3, random_state=42)\n",
    "\n",
    "# Build and train the logistic regression model\n",
    "log_model = LogisticRegression(max_iter=1000)\n",
    "log_model.fit(X_train, y_train)\n",
    "\n",
    "# Predict on the test set\n",
    "y_pred = log_model.predict(X_test)\n",
    "\n",
    "# Evaluate the model\n",
    "conf_matrix = confusion_matrix(y_test, y_pred)\n",
    "print(\"Confusion Matrix:\\n\", conf_matrix)\n",
    "\n",
    "class_report = classification_report(y_test, y_pred)\n",
    "print(\"Classification Report:\\n\", class_report)\n",
    "\n",
    "roc_auc = roc_auc_score(y_test, log_model.predict_proba(X_test)[:,1])\n",
    "print(\"ROC AUC Score:\", roc_auc)"
   ]
  },
  {
   "cell_type": "markdown",
   "metadata": {},
   "source": [
    "ROC AUC Score: 0.49 - This is the area under the ROC curve. A score of 0.5 indicates that the model is performing no better than random guessing. A score of 0.492 suggests that the model has poor discriminatory power and is not effective at distinguishing between the two classes (diabetic vs. not diabetic)."
   ]
  },
  {
   "cell_type": "markdown",
   "metadata": {},
   "source": [
    "# Chi-Square Test for Categorical Variables"
   ]
  },
  {
   "cell_type": "code",
   "execution_count": null,
   "metadata": {},
   "outputs": [],
   "source": [
    "from scipy.stats import chi2_contingency\n",
    "\n",
    "chi_square_results = {}\n",
    "categorical_columns = ['Gender', 'Smoking', 'EducationLevel']\n",
    "\n",
    "for column in categorical_columns:\n",
    "    contingency_table = pd.crosstab(diabetes_data_df[column], diabetes_data_df['Diagnosis'])\n",
    "    chi2, p, _, _ = chi2_contingency(contingency_table)\n",
    "    chi_square_results[column] = {'Chi2': chi2, 'p-value': p}\n",
    "\n",
    "# Display the results of Chi-Square tests\n",
    "for column, results in chi_square_results.items():\n",
    "    print(f\"Chi-Square Test for {column}:\")\n",
    "    print(f\"Chi2: {results['Chi2']}, p-value: {results['p-value']}\\n\")"
   ]
  },
  {
   "cell_type": "code",
   "execution_count": null,
   "metadata": {},
   "outputs": [],
   "source": [
    "from scipy.stats import chi2_contingency\n",
    "\n",
    "chi_square_results = {}\n",
    "categorical_columns = ['Smoking', 'AlcoholConsumption', 'PhysicalActivity']\n",
    "\n",
    "for column in categorical_columns:\n",
    "    contingency_table = pd.crosstab(diabetes_data_df[column], diabetes_data_df['Diagnosis'])\n",
    "    chi2, p, _, _ = chi2_contingency(contingency_table)\n",
    "    chi_square_results[column] = {'Chi2': chi2, 'p-value': p}\n",
    "\n",
    "# Display the results of Chi-Square tests\n",
    "for column, results in chi_square_results.items():\n",
    "    print(f\"Chi-Square Test for {column}:\")\n",
    "    print(f\"Chi2: {results['Chi2']}, p-value: {results['p-value']}\\n\")"
   ]
  },
  {
   "cell_type": "markdown",
   "metadata": {},
   "source": [
    "Gender and Education Level: With p-values greater than 0.05, we fail to reject the null hypothesis, meaning there is no evidence of a significant association between these variables and diabetes diagnosis in your dataset.\n",
    "\n",
    "Smoking: With a p-value less than 0.05, we reject the null hypothesis, suggesting there is a significant association between smoking status and diabetes diagnosis."
   ]
  }
 ],
 "metadata": {
  "kernelspec": {
   "display_name": "base",
   "language": "python",
   "name": "python3"
  },
  "language_info": {
   "name": "python",
   "version": "3.11.7"
  }
 },
 "nbformat": 4,
 "nbformat_minor": 2
}
